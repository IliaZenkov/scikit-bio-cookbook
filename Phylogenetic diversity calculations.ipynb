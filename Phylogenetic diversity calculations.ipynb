{
 "cells": [
  {
   "cell_type": "markdown",
   "metadata": {},
   "source": [
    "In this recipe, we're going to cover how to compute phylogenetic measures of biological diversity using scikit-bio and pandas. \n",
    "\n",
    "The theory behind these metrics, as well as a comparison to non-phylogenetic measures of biological diversity is covered in detail in the [*Studying Biological Diversity* chapter](http://nbviewer.ipython.org/github/gregcaporaso/An-Introduction-To-Applied-Bioinformatics/blob/master/applications/1-biological-diversity.ipynb) of [*An Introduction to Applied Bioinformatics*](http://applied-bioinformatics.org). *An Introduction to Applied Bioinformatics*, or *IAB*, is an open access (Creative Commons-licensed) executable introductory bioinformatics text which pulls a lot of functionality from scikit-bio. \n",
    "\n",
    "Because the theory of phylogenetic diversity metrics is covered in detail in IAB, we won't discuss a lot of that here. Instead we'll focus on implementation."
   ]
  },
  {
   "cell_type": "markdown",
   "metadata": {},
   "source": [
    "## Configure the environment and prepare some data to work with"
   ]
  },
  {
   "cell_type": "markdown",
   "metadata": {},
   "source": [
    "In this notebook we're going to use scikit-bio, numpy and pandas to perform alpha (within-sample) and beta (between-sample) diversity calculations."
   ]
  },
  {
   "cell_type": "code",
   "execution_count": 1,
   "metadata": {
    "collapsed": false
   },
   "outputs": [],
   "source": [
    "from __future__ import print_function\n",
    "import pandas as pd\n",
    "import numpy as np\n",
    "from skbio.tree import TreeNode"
   ]
  },
  {
   "cell_type": "markdown",
   "metadata": {},
   "source": [
    "Imagine we have three samples and nine *biological observations*. Think of these *biological observations* as species and the samples as 1 meter plots of land. If we compile a count of how many times each *biological observation* is observed in each sample (a *count vector*), we get a picture of the species composition of the given plot of land. Count vectors for multiple samples can be represented as a *sample by observation count matrix*.\n",
    "\n",
    "A [BIOM table](http://biom-format.org/) is frequently used to represent sample by observation count matrices, but since BIOM is not a dependency of scikit-bio (and therefore not a dependency of the scikit-bio cookbook), and because we're only accessing this data in a very basic way, we're going to use a ``pandas.DataFrame`` object to store this data. When the ``biom_format.Table`` object is ported to scikit-bio (see [issue #489](https://github.com/biocore/scikit-bio/issues/489)), we'll update to use that here."
   ]
  },
  {
   "cell_type": "code",
   "execution_count": 2,
   "metadata": {
    "collapsed": false
   },
   "outputs": [
    {
     "data": {
      "text/html": [
       "<div style=\"max-height:1000px;max-width:1500px;overflow:auto;\">\n",
       "<table border=\"1\" class=\"dataframe\">\n",
       "  <thead>\n",
       "    <tr style=\"text-align: right;\">\n",
       "      <th></th>\n",
       "      <th>sample1</th>\n",
       "      <th>sample2</th>\n",
       "      <th>sample3</th>\n",
       "    </tr>\n",
       "  </thead>\n",
       "  <tbody>\n",
       "    <tr>\n",
       "      <th>species1</th>\n",
       "      <td> 1</td>\n",
       "      <td> 1</td>\n",
       "      <td> 5</td>\n",
       "    </tr>\n",
       "    <tr>\n",
       "      <th>species2</th>\n",
       "      <td> 1</td>\n",
       "      <td> 2</td>\n",
       "      <td> 0</td>\n",
       "    </tr>\n",
       "    <tr>\n",
       "      <th>species3</th>\n",
       "      <td> 3</td>\n",
       "      <td> 1</td>\n",
       "      <td> 0</td>\n",
       "    </tr>\n",
       "    <tr>\n",
       "      <th>species4</th>\n",
       "      <td> 0</td>\n",
       "      <td> 2</td>\n",
       "      <td> 0</td>\n",
       "    </tr>\n",
       "    <tr>\n",
       "      <th>species5</th>\n",
       "      <td> 0</td>\n",
       "      <td> 0</td>\n",
       "      <td> 0</td>\n",
       "    </tr>\n",
       "    <tr>\n",
       "      <th>species6</th>\n",
       "      <td> 0</td>\n",
       "      <td> 0</td>\n",
       "      <td> 3</td>\n",
       "    </tr>\n",
       "    <tr>\n",
       "      <th>species7</th>\n",
       "      <td> 0</td>\n",
       "      <td> 0</td>\n",
       "      <td> 1</td>\n",
       "    </tr>\n",
       "    <tr>\n",
       "      <th>species8</th>\n",
       "      <td> 1</td>\n",
       "      <td> 0</td>\n",
       "      <td> 1</td>\n",
       "    </tr>\n",
       "    <tr>\n",
       "      <th>species9</th>\n",
       "      <td> 0</td>\n",
       "      <td> 0</td>\n",
       "      <td> 0</td>\n",
       "    </tr>\n",
       "  </tbody>\n",
       "</table>\n",
       "</div>"
      ],
      "text/plain": [
       "          sample1  sample2  sample3\n",
       "species1        1        1        5\n",
       "species2        1        2        0\n",
       "species3        3        1        0\n",
       "species4        0        2        0\n",
       "species5        0        0        0\n",
       "species6        0        0        3\n",
       "species7        0        0        1\n",
       "species8        1        0        1\n",
       "species9        0        0        0"
      ]
     },
     "execution_count": 2,
     "metadata": {},
     "output_type": "execute_result"
    }
   ],
   "source": [
    "sample_ids = ['sample1', 'sample2', 'sample3']\n",
    "observation_ids = ['species1', 'species2', 'species3', \n",
    "                   'species4', 'species5', 'species6',\n",
    "                   'species7', 'species8', 'species9',]\n",
    "data = np.array([[1, 1, 5],\n",
    "                 [1, 2, 0],\n",
    "                 [3, 1, 0],\n",
    "                 [0, 2, 0],\n",
    "                 [0, 0, 0],\n",
    "                 [0, 0, 3],\n",
    "                 [0, 0, 1],\n",
    "                 [1, 0, 1],\n",
    "                 [0, 0, 0]])\n",
    "\n",
    "table1 = pd.DataFrame(data, index=observation_ids, columns=sample_ids)\n",
    "\n",
    "table1"
   ]
  },
  {
   "cell_type": "markdown",
   "metadata": {},
   "source": [
    "It's then simple to access the counts of a particular species in a particular sample. For example, ``species3`` was observed three times in ``sample1``, one time in ``sample2``, and zero times in ``sample3``."
   ]
  },
  {
   "cell_type": "code",
   "execution_count": 3,
   "metadata": {
    "collapsed": false
   },
   "outputs": [
    {
     "name": "stdout",
     "output_type": "stream",
     "text": [
      "3\n",
      "1\n",
      "0\n"
     ]
    }
   ],
   "source": [
    "print(table1['sample1']['species3'])\n",
    "print(table1['sample2']['species3'])\n",
    "print(table1['sample3']['species3'])"
   ]
  },
  {
   "cell_type": "markdown",
   "metadata": {},
   "source": [
    "Because we're going to perform phylogenetic diversity calculations here, we need a phylogenetic tree that represents the evolutionary relationships between the species in our table. (If you don't understand why that is, refer to *An Introduction to Applied Bioinformatics*.) We'll define our tree as a newick-formatted string, and then load that into a scikit-bio [``TreeNode`` object](http://scikit-bio.org/docs/latest/generated/skbio.tree.TreeNode.html#skbio.tree.TreeNode)."
   ]
  },
  {
   "cell_type": "code",
   "execution_count": 4,
   "metadata": {
    "collapsed": false
   },
   "outputs": [],
   "source": [
    "from io import StringIO\n",
    "tree_s = StringIO(u'(((species1:0.2,species2:0.3):0.3,((species3:0.5,species4:0.3):0.2,species5:0.9):0.3):0.35,(((species6:0.2,species7:0.3):0.3,(species8:0.3,species9:0.4):0.7):0.2))root;')\n",
    "tree = TreeNode.read(tree_s)"
   ]
  },
  {
   "cell_type": "markdown",
   "metadata": {},
   "source": [
    "Here's what that tree looks like if we visualize it with [Archaeopteryx](https://sites.google.com/site/cmzmasek/home/software/archaeopteryx). At the left-most point on each branch, the length of that branch is indicated. Note that our observation ids are the tips in the tree."
   ]
  },
  {
   "cell_type": "markdown",
   "metadata": {},
   "source": [
    "<img src=\"assets/phylogenetic-diversity-tree.png\">"
   ]
  },
  {
   "cell_type": "markdown",
   "metadata": {},
   "source": [
    "## Computing Faith's Phylogenetic Diversity"
   ]
  },
  {
   "cell_type": "markdown",
   "metadata": {},
   "source": [
    "The first metric that we'll look at is Faith's Phyogenetic Diversity, or PD. This was initially described in [Faith (1992)](http://www.sciencedirect.com/science/article/pii/0006320792912013), and is discussed in [IAB](http://nbviewer.ipython.org/github/gregcaporaso/An-Introduction-To-Applied-Bioinformatics/blob/master/applications/1-biological-diversity.ipynb).\n",
    "\n",
    "The key piece of information that we need to compute PD is what nodes in a phylogenetic tree were observed in a given sample. From that, we can compute the total amount of branch length observed in that sample. Note that a value of PD will be specific to a given phylogenetic tree (e.g., if you multipled all of the branch lengths in the tree by 2, you'd double the PD).\n",
    "\n",
    "Here we'll define a function that returns the set of nodes that are observed in a given tree, given a vector of species (or more generally *biological observations*) that were observed. The species represent the *tips* in our tree, so internally we refer to them as *tips*. \n",
    "\n",
    "This function gives us the set of nodes in the tree that would be observed given some ``observed_tips``. Most of these will be internal nodes (and thus generally unnamed). These are identified by tracing from each of the observed species (tips) back to the root of the tree.\n",
    "\n",
    "Note that we've built a ``verbose`` flag into this function, which is useful for printing the previously unobserved branch lengths between each observed tip and the root. This is ``False`` by default (because most of the time it's annyoing to have extraneous information printed out by functions), but it can be useful for learning about how an algorithm works."
   ]
  },
  {
   "cell_type": "code",
   "execution_count": 5,
   "metadata": {
    "collapsed": false
   },
   "outputs": [],
   "source": [
    "def get_observed_nodes(tree, observed_tips, verbose=False):\n",
    "    # this function should be ported to the TreeNode object\n",
    "    observed_nodes = set()\n",
    "    # iterate over the observed tips in the tree\n",
    "    for tip in observed_tips:\n",
    "        t = tree.find(tip)\n",
    "        observed_nodes.add(t)\n",
    "        if verbose:\n",
    "            print(t.name)\n",
    "            print(t.length)\n",
    "        for internal_node in t.ancestors():\n",
    "            if internal_node.length is None:\n",
    "                # we've hit the root\n",
    "                pass\n",
    "            else:\n",
    "                if verbose and internal_node not in observed_nodes:\n",
    "                    print(internal_node.length),\n",
    "                observed_nodes.add(internal_node)\n",
    "    return observed_nodes"
   ]
  },
  {
   "cell_type": "code",
   "execution_count": 6,
   "metadata": {
    "collapsed": false
   },
   "outputs": [
    {
     "name": "stdout",
     "output_type": "stream",
     "text": [
      "set([<TreeNode, name: unnamed, internal node count: 0, tips count: 2>, <TreeNode, name: species1, internal node count: 0, tips count: 0>, <TreeNode, name: unnamed, internal node count: 3, tips count: 5>])\n"
     ]
    }
   ],
   "source": [
    "print(get_observed_nodes(tree, ['species1']))"
   ]
  },
  {
   "cell_type": "code",
   "execution_count": 7,
   "metadata": {
    "collapsed": false
   },
   "outputs": [
    {
     "name": "stdout",
     "output_type": "stream",
     "text": [
      "set([<TreeNode, name: unnamed, internal node count: 0, tips count: 2>, <TreeNode, name: species3, internal node count: 0, tips count: 0>, <TreeNode, name: unnamed, internal node count: 3, tips count: 5>, <TreeNode, name: unnamed, internal node count: 0, tips count: 2>, <TreeNode, name: species1, internal node count: 0, tips count: 0>, <TreeNode, name: unnamed, internal node count: 1, tips count: 3>])\n"
     ]
    }
   ],
   "source": [
    "print(get_observed_nodes(tree, ['species1', 'species3']))"
   ]
  },
  {
   "cell_type": "code",
   "execution_count": 8,
   "metadata": {
    "collapsed": false
   },
   "outputs": [
    {
     "name": "stdout",
     "output_type": "stream",
     "text": [
      "set([<TreeNode, name: unnamed, internal node count: 0, tips count: 2>, <TreeNode, name: species3, internal node count: 0, tips count: 0>, <TreeNode, name: unnamed, internal node count: 0, tips count: 2>, <TreeNode, name: unnamed, internal node count: 3, tips count: 5>, <TreeNode, name: unnamed, internal node count: 2, tips count: 4>, <TreeNode, name: species9, internal node count: 0, tips count: 0>, <TreeNode, name: unnamed, internal node count: 1, tips count: 3>])\n"
     ]
    }
   ],
   "source": [
    "print(get_observed_nodes(tree, ['species3', 'species9']))"
   ]
  },
  {
   "cell_type": "markdown",
   "metadata": {},
   "source": [
    "Computing phylogenetic diversity is then simple. We just need to sum the branch lengths associated with the observed nodes. We'll define this as a function that takes a table and a sample id, and internally generates the list of observed tips/species.\n",
    "\n",
    "We can apply this to compute the phylogenetic diversity for each of our samples. When running with ``verbose=True``, we can see the branch lengths that go into each computation. Only the branch lengths that haven't previously been observed are printed for an observed tip."
   ]
  },
  {
   "cell_type": "code",
   "execution_count": 9,
   "metadata": {
    "collapsed": false
   },
   "outputs": [],
   "source": [
    "def get_observed_tips(table, sample_id):\n",
    "    if sample_id not in table.columns:\n",
    "        raise KeyError(\"sample_id (%s) is not present in table.\" % sample_id)\n",
    "    return [obs_id for obs_id in table.index if table[sample_id][obs_id] > 0]\n",
    "\n",
    "def phylogenetic_diversity(tree, table, sample_id, verbose=False):\n",
    "    observed_tips = get_observed_tips(table, sample_id)\n",
    "    observed_nodes = get_observed_nodes(tree, observed_tips, verbose=verbose)\n",
    "    pd = sum(o.length for o in observed_nodes)\n",
    "    return pd"
   ]
  },
  {
   "cell_type": "code",
   "execution_count": 10,
   "metadata": {
    "collapsed": false
   },
   "outputs": [
    {
     "name": "stdout",
     "output_type": "stream",
     "text": [
      "species1\n",
      "0.2\n",
      "0.3\n",
      "0.35\n",
      "species2\n",
      "0.3\n",
      "species3\n",
      "0.5\n",
      "0.2\n",
      "0.3\n",
      "species8\n",
      "0.3\n",
      "0.7\n",
      "0.2\n",
      "3.35\n"
     ]
    }
   ],
   "source": [
    "pd1 = phylogenetic_diversity(tree, table1, 'sample1', verbose=True)\n",
    "print(pd1)"
   ]
  },
  {
   "cell_type": "code",
   "execution_count": 11,
   "metadata": {
    "collapsed": false
   },
   "outputs": [
    {
     "name": "stdout",
     "output_type": "stream",
     "text": [
      "species1\n",
      "0.2\n",
      "0.3\n",
      "0.35\n",
      "species2\n",
      "0.3\n",
      "species3\n",
      "0.5\n",
      "0.2\n",
      "0.3\n",
      "species4\n",
      "0.3\n",
      "2.45\n"
     ]
    }
   ],
   "source": [
    "pd2 = phylogenetic_diversity(tree, table1, 'sample2', verbose=True)\n",
    "print(pd2)"
   ]
  },
  {
   "cell_type": "code",
   "execution_count": 12,
   "metadata": {
    "collapsed": false
   },
   "outputs": [
    {
     "name": "stdout",
     "output_type": "stream",
     "text": [
      "species1\n",
      "0.2\n",
      "0.3\n",
      "0.35\n",
      "species6\n",
      "0.2\n",
      "0.3\n",
      "0.2\n",
      "species7\n",
      "0.3\n",
      "species8\n",
      "0.3\n",
      "0.7\n",
      "2.85\n"
     ]
    }
   ],
   "source": [
    "pd3 = phylogenetic_diversity(tree, table1, 'sample3', verbose=True)\n",
    "print(pd3)"
   ]
  },
  {
   "cell_type": "markdown",
   "metadata": {},
   "source": [
    "## Computing Unweighted UniFrac"
   ]
  },
  {
   "cell_type": "markdown",
   "metadata": {},
   "source": [
    "Unweighted UniFrac was introduced initially introduced in [Lozupone and Knight (2005)](http://aem.asm.org/content/71/12/8228.abstract), and provides a way to compute the dissimilarity of a pair of samples. Unweighted UniFrac is discussed in detail in [IAB](http://nbviewer.ipython.org/github/gregcaporaso/An-Introduction-To-Applied-Bioinformatics/blob/master/applications/1-biological-diversity.ipynb), so here we'll just focus on implementation. \n",
    "\n",
    "Unweighted UniFrac is closely related to PD. What we want to do here is divide the branch length that is observed in only one sample (the *unique branch length*) by the branch length observed in at least one of the samples (the *total branch length*). \n",
    "\n",
    "Since we've already defined a function that gives us the set of nodes that are observed in a sample, it's simple to compute that for each of our samples. We can then apply set operations to find the nodes observed in both samples (the union of the sets of observed nodes), and the nodes observed in either of the samples (the intersection of the sets of observed nodes). The set of nodes observed in only one sample (the unique nodes) is the set of nodes observed in either sample minus the set of nodes observed in both samples.\n",
    "\n",
    "We can then get the branch length represented by the set of unique nodes and by the set of observed nodes, and compute unweighted UniFrac."
   ]
  },
  {
   "cell_type": "code",
   "execution_count": 13,
   "metadata": {
    "collapsed": false
   },
   "outputs": [],
   "source": [
    "def unweighted_unifrac(tree, table, sample_id1, sample_id2, verbose=False):\n",
    "    observed_tips1 = observed_tips = get_observed_tips(table, sample_id1)\n",
    "    observed_tips2 = observed_tips = get_observed_tips(table, sample_id2)\n",
    "    observed_nodes1 = get_observed_nodes(tree, observed_tips1, verbose=verbose)\n",
    "    observed_nodes2 = get_observed_nodes(tree, observed_tips2, verbose=verbose)\n",
    "    \n",
    "    observed_branch_length = sum(o.length for o in observed_nodes1 | observed_nodes2)\n",
    "    shared_branch_length = sum(o.length for o in observed_nodes1 & observed_nodes2)\n",
    "    unique_branch_length = observed_branch_length - shared_branch_length\n",
    "    unweighted_unifrac = unique_branch_length / observed_branch_length\n",
    "    return unweighted_unifrac"
   ]
  },
  {
   "cell_type": "markdown",
   "metadata": {},
   "source": [
    "We can now apply this to all pairs of samples to figure out which are more and less similar to each other. This tells us that samples 1 and 2 are the most similar (they have the lowest dissimilarity) and samples 2 and 3 are the least similar to each other (they have the highest dissimilarity)."
   ]
  },
  {
   "cell_type": "code",
   "execution_count": 14,
   "metadata": {
    "collapsed": false
   },
   "outputs": [
    {
     "data": {
      "text/plain": [
       "0.41095890410958896"
      ]
     },
     "execution_count": 14,
     "metadata": {},
     "output_type": "execute_result"
    }
   ],
   "source": [
    "unweighted_unifrac(tree, table1, 'sample1', 'sample2')"
   ]
  },
  {
   "cell_type": "code",
   "execution_count": 15,
   "metadata": {
    "collapsed": false
   },
   "outputs": [
    {
     "data": {
      "text/plain": [
       "0.506024096385542"
      ]
     },
     "execution_count": 15,
     "metadata": {},
     "output_type": "execute_result"
    }
   ],
   "source": [
    "unweighted_unifrac(tree, table1, 'sample1', 'sample3')"
   ]
  },
  {
   "cell_type": "code",
   "execution_count": 16,
   "metadata": {
    "collapsed": false
   },
   "outputs": [
    {
     "data": {
      "text/plain": [
       "0.8089887640449439"
      ]
     },
     "execution_count": 16,
     "metadata": {},
     "output_type": "execute_result"
    }
   ],
   "source": [
    "unweighted_unifrac(tree, table1, 'sample2', 'sample3')"
   ]
  },
  {
   "cell_type": "markdown",
   "metadata": {},
   "source": [
    "Finally, we can define a function to compute all pairs of unweighted UniFrac distances between our samples and return an [skbio.DistanceMatrix object](http://scikit-bio.org/docs/latest/generated/generated/skbio.stats.distance.DistanceMatrix.html#skbio.stats.distance.DistanceMatrix). Notice that the diagonal in this matrix is zero (because the distance between a sample and itself is always zero), and that the matrix is symmetric (because the distance between *sample A* and *sample B* is always equal to the distance between *sample B* and *sample A*)."
   ]
  },
  {
   "cell_type": "code",
   "execution_count": 17,
   "metadata": {
    "collapsed": false
   },
   "outputs": [],
   "source": [
    "from skbio import DistanceMatrix\n",
    "\n",
    "def unweighted_unifrac_all(tree, table):\n",
    "    sample_ids = table.columns\n",
    "    num_samples = len(sample_ids)\n",
    "    result = np.zeros((num_samples, num_samples))\n",
    "    for i in range(num_samples):\n",
    "        for j in range(i):\n",
    "            result[i, j] = result[j, i] = unweighted_unifrac(tree, table, sample_ids[i], sample_ids[j])\n",
    "    return DistanceMatrix(result, sample_ids)"
   ]
  },
  {
   "cell_type": "code",
   "execution_count": 18,
   "metadata": {
    "collapsed": false
   },
   "outputs": [
    {
     "name": "stdout",
     "output_type": "stream",
     "text": [
      "3x3 distance matrix\n",
      "IDs:\n",
      "sample1, sample2, sample3\n",
      "Data:\n",
      "[[ 0.          0.4109589   0.5060241 ]\n",
      " [ 0.4109589   0.          0.80898876]\n",
      " [ 0.5060241   0.80898876  0.        ]]\n"
     ]
    }
   ],
   "source": [
    "dm = unweighted_unifrac_all(tree, table1)\n",
    "print(dm)"
   ]
  }
 ],
 "metadata": {
  "kernelspec": {
   "display_name": "Python 2",
   "language": "python",
   "name": "python2"
  },
  "language_info": {
   "codemirror_mode": {
    "name": "ipython",
    "version": 2
   },
   "file_extension": ".py",
   "mimetype": "text/x-python",
   "name": "python",
   "nbconvert_exporter": "python",
   "pygments_lexer": "ipython2",
   "version": "2.7.5"
  }
 },
 "nbformat": 4,
 "nbformat_minor": 0
}
