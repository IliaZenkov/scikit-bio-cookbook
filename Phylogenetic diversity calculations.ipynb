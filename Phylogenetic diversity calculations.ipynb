{
 "cells": [
  {
   "cell_type": "markdown",
   "metadata": {},
   "source": [
    "This recipe is no longer necessary as all of the functionality described is now a part of scikit-bio!\n",
    "\n",
    "You can find information on computing *Faith's PD* and *Weighted/Unweighted UniFrac* in the [diversity section of the scikit-bio docs](http://scikit-bio.org/docs/0.5.0/diversity.html).\n",
    "\n",
    "For a thorough analysis of working with microbial diversity, see the [*Studying Biological Diversity* chapter](http://readiab.org/book/latest/3/1) of [*An Introduction to Applied Bioinformatics*](http://readiab.org/).\n"
   ]
  }
 ],
 "metadata": {
  "kernelspec": {
   "display_name": "Python 3",
   "language": "python",
   "name": "python3"
  },
  "language_info": {
   "codemirror_mode": {
    "name": "ipython",
    "version": 3
   },
   "file_extension": ".py",
   "mimetype": "text/x-python",
   "name": "python",
   "nbconvert_exporter": "python",
   "pygments_lexer": "ipython3",
   "version": "3.4.4"
  }
 },
 "nbformat": 4,
 "nbformat_minor": 0
}
