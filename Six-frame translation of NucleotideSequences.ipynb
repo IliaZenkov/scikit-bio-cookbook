{
 "cells": [
  {
   "cell_type": "markdown",
   "metadata": {},
   "source": [
    "In this recipe we'll explore how to perform six-frame translation on a nucleotide sequence. Briefly, when an unknown DNA sequence is obtained from the environment, there are six possible reading frames for translation. The six reading frames for a DNA sequence start at positions 1, 2, and 3 in the forward orientation and positions 1, 2, and 3 in the reverse orientation.\n",
    "\n",
    "Six-frame translation can be used to find the possible proteins a nucleotide sequence might encode."
   ]
  },
  {
   "cell_type": "markdown",
   "metadata": {},
   "source": [
    "First let's define a single DNA sequence. This is a [cholera toxin](http://www.ebi.ac.uk/interpro/potm/2005_9/Page1.htm) seqeunce, which we obtained from [Genebank record EU828588.1](http://www.ncbi.nlm.nih.gov/nuccore/EU828588.1):"
   ]
  },
  {
   "cell_type": "code",
   "execution_count": 1,
   "metadata": {
    "collapsed": false
   },
   "outputs": [
    {
     "data": {
      "text/plain": [
       "<DNASequence: ATGATTAAAT... (length: 392)>"
      ]
     },
     "execution_count": 1,
     "metadata": {},
     "output_type": "execute_result"
    }
   ],
   "source": [
    "from skbio import DNASequence\n",
    "dna = DNASequence(\"ATGATTAAATTAAAATTTGGTGTTTTTTTTACAGTTTTACTATCTTCAGCATATGCACATGGAACACCTCAAAATATTACTGATTTGTGTGCAGAATACCACAACACACAAATACATACGCTAAATGATAAGATATTGTCGTATACAGAATCTCTAGCTGGAAAAAGAGAGATGGCTATCATTACTTTTAAGAATGGTGCAACTTTTCAAGTAGAAGTACCAGGTAGTCAACATATAGATTCACAAAAAAAAGCGATTGAAAGGATGAAGGATACCCTGAGGATTGCATATCTTACTGAAGCTAAAGTCGAAAAGTTATGTGTATGGAATAATAAAACGCCTCATGCGATTGCCGCAATTAGTATGGCAAATTAAGATATAAAAAAGCCCAC\")\n",
    "dna"
   ]
  },
  {
   "cell_type": "markdown",
   "metadata": {},
   "source": [
    "Since this is a curated sequence from NCBI, let's add 25 random nucleotides to both ends of the sequence to simulate a DNA fragment obtained from the environment (e.g., from shotgun metagenomic sequencing), where we don't know ahead of time what protein it might encode (or if it even does)."
   ]
  },
  {
   "cell_type": "code",
   "execution_count": 2,
   "metadata": {
    "collapsed": false
   },
   "outputs": [],
   "source": [
    "import random\n",
    "def random_dna_seq(n):\n",
    "    return ''.join(random.choice('ACGT') for _ in range(n))"
   ]
  },
  {
   "cell_type": "code",
   "execution_count": 3,
   "metadata": {
    "collapsed": false
   },
   "outputs": [
    {
     "data": {
      "text/plain": [
       "<DNASequence: CCTAAGAGGA... (length: 442)>"
      ]
     },
     "execution_count": 3,
     "metadata": {},
     "output_type": "execute_result"
    }
   ],
   "source": [
    "random_front = random_dna_seq(25)\n",
    "random_back = random_dna_seq(25)\n",
    "dna = DNASequence(random_front + str(dna) + random_back)\n",
    "dna"
   ]
  },
  {
   "cell_type": "markdown",
   "metadata": {},
   "source": [
    "Next let's create a genetic code object. The default genetic code in scikit-bio is the vertebrate nuclear genetic code, but others exist which contain minor differences (e.g., codons code for different amino acids, or the set of stop codons is slightly different) and can be obtained via the `genetic_code` factory. Since we're going to translate the cholera toxin DNA sequence (produced by the *Vibrio cholerae* bacterium), we'll use NCBI's [Bacterial, Archaeal and Plant Plastid Code](http://www.ncbi.nlm.nih.gov/Taxonomy/Utils/wprintgc.cgi#SG11) (transl_table=11):"
   ]
  },
  {
   "cell_type": "code",
   "execution_count": 4,
   "metadata": {
    "collapsed": false
   },
   "outputs": [],
   "source": [
    "from skbio.sequence import genetic_code\n",
    "gc = genetic_code(11)"
   ]
  },
  {
   "cell_type": "markdown",
   "metadata": {},
   "source": [
    "To perform six-frame translation of our DNA sequence:"
   ]
  },
  {
   "cell_type": "code",
   "execution_count": 5,
   "metadata": {
    "collapsed": false
   },
   "outputs": [
    {
     "data": {
      "text/plain": [
       "[<ProteinSequence: PKRNSKLPDD... (length: 147)>,\n",
       " <ProteinSequence: LRGIRNYPMI... (length: 147)>,\n",
       " <ProteinSequence: *EEFEITR*L... (length: 146)>,\n",
       " <ProteinSequence: KATRGTLVRG... (length: 147)>,\n",
       " <ProteinSequence: RPRGALLCVG... (length: 147)>,\n",
       " <ProteinSequence: GHEGHSCAWA... (length: 146)>]"
      ]
     },
     "execution_count": 5,
     "metadata": {},
     "output_type": "execute_result"
    }
   ],
   "source": [
    "prot_seqs = gc.translate_six_frames(dna)\n",
    "prot_seqs"
   ]
  },
  {
   "cell_type": "markdown",
   "metadata": {},
   "source": [
    "The six protein sequences represent each possible reading frame in the DNA sequence, but start and stop codons are not taken into account since we don't know what the actual reading frame is, so it may be desirable to next identify the sequences that are the most likely proteins.\n",
    "\n",
    "First let's see how many *stop translation points* there are in each translation (they are denoted by an asterisk in the protein sequence, and correspond to the locations of stop codons in the DNA sequence). The real protein sequence is unlikely to have very many stop translation points. "
   ]
  },
  {
   "cell_type": "code",
   "execution_count": 6,
   "metadata": {
    "collapsed": false
   },
   "outputs": [
    {
     "name": "stdout",
     "output_type": "stream",
     "text": [
      "Sequence 1 has 12 stop codons.\n",
      "Sequence 2 has 1 stop codons.\n",
      "Sequence 3 has 10 stop codons.\n",
      "Sequence 4 has 9 stop codons.\n",
      "Sequence 5 has 6 stop codons.\n",
      "Sequence 6 has 10 stop codons.\n"
     ]
    }
   ],
   "source": [
    "for i, seq in enumerate(prot_seqs):\n",
    "    print(\"Sequence %d has %d stop codons.\" % (i + 1, seq.count('*')))"
   ]
  },
  {
   "cell_type": "markdown",
   "metadata": {},
   "source": [
    "The second translated sequence has the fewest stop codons, so this seems a likely candidate for encoding a protein. Let's trim the sequence to include only the regions between a start and stop codon. This functionality does not yet exist in scikit-bio, though there are plans to rework the genetic code functionality in the near future to make this process easier. For now, let's define a function to find the this region in each protein sequence:"
   ]
  },
  {
   "cell_type": "code",
   "execution_count": 7,
   "metadata": {
    "collapsed": false
   },
   "outputs": [],
   "source": [
    "from skbio import ProteinSequence, SequenceCollection\n",
    "def find_proteins(translated_seq):\n",
    "    proteins = []\n",
    "    curr_protein = []\n",
    "    in_protein = False\n",
    "    for c in translated_seq:\n",
    "        if c == 'M':\n",
    "            # start translation point, corresponds to a start codon\n",
    "            in_protein = True\n",
    "        if in_protein:\n",
    "            if c == '*':\n",
    "                # end translation point, corresponds to a stop codon\n",
    "                proteins.append(ProteinSequence(curr_protein, id='%d' % (len(proteins) + 1)))\n",
    "                curr_protein = []\n",
    "                in_protein = False\n",
    "            else:\n",
    "                curr_protein.append(c)\n",
    "    return SequenceCollection(proteins)"
   ]
  },
  {
   "cell_type": "markdown",
   "metadata": {},
   "source": [
    "If we run this function on our candidate translation, we receive a `SequenceCollection` containing a single protein:"
   ]
  },
  {
   "cell_type": "code",
   "execution_count": 8,
   "metadata": {
    "collapsed": false
   },
   "outputs": [
    {
     "data": {
      "text/plain": [
       "<SequenceCollection: n=1; mean +/- std length=124.00 +/- 0.00>"
      ]
     },
     "execution_count": 8,
     "metadata": {},
     "output_type": "execute_result"
    }
   ],
   "source": [
    "proteins = find_proteins(prot_seqs[1])\n",
    "proteins"
   ]
  },
  {
   "cell_type": "markdown",
   "metadata": {},
   "source": [
    "Let's inspect the protein in more detail:"
   ]
  },
  {
   "cell_type": "code",
   "execution_count": 9,
   "metadata": {
    "collapsed": false
   },
   "outputs": [
    {
     "name": "stdout",
     "output_type": "stream",
     "text": [
      ">1\n",
      "MIKLKFGVFFTVLLSSAYAHGTPQNITDLCAEYHNTQIHTLNDKILSYTESLAGKREMAIITFKNGATFQVEVPGSQHIDSQKKAIERMKDTLRIAYLTEAKVEKLCVWNNKTPHAIAAISMAN\n",
      "\n"
     ]
    }
   ],
   "source": [
    "print(proteins)"
   ]
  },
  {
   "cell_type": "markdown",
   "metadata": {},
   "source": [
    "Note that the sequence starts with M (which is the amino acid encoded by ATG, the start codon in this genetic code) and that the stop translation character has been trimmed off. This region seems a likely candidate for a protein given its length."
   ]
  },
  {
   "cell_type": "markdown",
   "metadata": {},
   "source": [
    "A next step could be searching the protein against a reference database (e.g., by BLASTing them using NCBI's `blastp` tool). In the future, we may add external reference database searching to scikit-bio."
   ]
  }
 ],
 "metadata": {
  "kernelspec": {
   "display_name": "Python 2",
   "language": "python",
   "name": "python2"
  },
  "language_info": {
   "codemirror_mode": {
    "name": "ipython",
    "version": 2
   },
   "file_extension": ".py",
   "mimetype": "text/x-python",
   "name": "python",
   "nbconvert_exporter": "python",
   "pygments_lexer": "ipython2",
   "version": "2.7.5"
  }
 },
 "nbformat": 4,
 "nbformat_minor": 0
}
